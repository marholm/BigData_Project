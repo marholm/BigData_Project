{
 "cells": [
  {
   "cell_type": "code",
   "execution_count": 9,
   "metadata": {},
   "outputs": [
    {
     "name": "stdout",
     "output_type": "stream",
     "text": [
      "   Unnamed: 0     tconst              primaryTitle             originalTitle  \\\n",
      "0           4  tt0010600                  The Doll                 Die Puppe   \n",
      "1           7  tt0011841             Way Down East             Way Down East   \n",
      "2           9  tt0012494                   Déstiny              Der müde Tod   \n",
      "3          25  tt0015163             The Navigator             The Navigator   \n",
      "4          38  tt0016220  The Phantom of the Opera  The Phantom of the Opera   \n",
      "\n",
      "  startYear endYear runtimeMinutes  numVotes  label  \n",
      "0      1919      \\N             66    1898.0   True  \n",
      "1      1920      \\N            145    5376.0   True  \n",
      "2      1921      \\N             97    5842.0   True  \n",
      "3      1924      \\N             59    9652.0   True  \n",
      "4      1925      \\N             93   17887.0   True  \n"
     ]
    }
   ],
   "source": [
    "import pandas as pd\n",
    "\n",
    "df = pd.read_csv('data/train-1.csv')\n",
    "\n",
    "print(df.head())"
   ]
  },
  {
   "cell_type": "code",
   "execution_count": null,
   "metadata": {},
   "outputs": [],
   "source": []
  }
 ],
 "metadata": {
  "interpreter": {
   "hash": "aee8b7b246df8f9039afb4144a1f6fd8d2ca17a180786b69acc140d282b71a49"
  },
  "kernelspec": {
   "display_name": "Python 3.9.10 64-bit",
   "language": "python",
   "name": "python3"
  },
  "language_info": {
   "codemirror_mode": {
    "name": "ipython",
    "version": 3
   },
   "file_extension": ".py",
   "mimetype": "text/x-python",
   "name": "python",
   "nbconvert_exporter": "python",
   "pygments_lexer": "ipython3",
   "version": "3.9.10"
  },
  "orig_nbformat": 4
 },
 "nbformat": 4,
 "nbformat_minor": 2
}
