{
 "cells": [
  {
   "cell_type": "code",
   "execution_count": 1,
   "metadata": {},
   "outputs": [],
   "source": [
    "import glob\n",
    "import numpy as np\n",
    "import pandas as pd"
   ]
  },
  {
   "cell_type": "code",
   "execution_count": 2,
   "metadata": {},
   "outputs": [
    {
     "data": {
      "text/html": [
       "<div>\n",
       "<style scoped>\n",
       "    .dataframe tbody tr th:only-of-type {\n",
       "        vertical-align: middle;\n",
       "    }\n",
       "\n",
       "    .dataframe tbody tr th {\n",
       "        vertical-align: top;\n",
       "    }\n",
       "\n",
       "    .dataframe thead th {\n",
       "        text-align: right;\n",
       "    }\n",
       "</style>\n",
       "<table border=\"1\" class=\"dataframe\">\n",
       "  <thead>\n",
       "    <tr style=\"text-align: right;\">\n",
       "      <th></th>\n",
       "      <th>Unnamed: 0</th>\n",
       "      <th>tconst</th>\n",
       "      <th>primaryTitle</th>\n",
       "      <th>originalTitle</th>\n",
       "      <th>startYear</th>\n",
       "      <th>endYear</th>\n",
       "      <th>runtimeMinutes</th>\n",
       "      <th>numVotes</th>\n",
       "      <th>label</th>\n",
       "    </tr>\n",
       "  </thead>\n",
       "  <tbody>\n",
       "    <tr>\n",
       "      <th>0</th>\n",
       "      <td>11</td>\n",
       "      <td>tt0013257</td>\n",
       "      <td>Häxan</td>\n",
       "      <td>Häxan</td>\n",
       "      <td>1922</td>\n",
       "      <td>\\N</td>\n",
       "      <td>91</td>\n",
       "      <td>13679.0</td>\n",
       "      <td>True</td>\n",
       "    </tr>\n",
       "    <tr>\n",
       "      <th>1</th>\n",
       "      <td>12</td>\n",
       "      <td>tt0013556</td>\n",
       "      <td>Robin Hood</td>\n",
       "      <td>NaN</td>\n",
       "      <td>1922</td>\n",
       "      <td>\\N</td>\n",
       "      <td>143</td>\n",
       "      <td>2178.0</td>\n",
       "      <td>True</td>\n",
       "    </tr>\n",
       "    <tr>\n",
       "      <th>2</th>\n",
       "      <td>16</td>\n",
       "      <td>tt0014341</td>\n",
       "      <td>Our Hospitality</td>\n",
       "      <td>Our Hospitality</td>\n",
       "      <td>1923</td>\n",
       "      <td>\\N</td>\n",
       "      <td>65</td>\n",
       "      <td>10911.0</td>\n",
       "      <td>True</td>\n",
       "    </tr>\n",
       "    <tr>\n",
       "      <th>3</th>\n",
       "      <td>19</td>\n",
       "      <td>tt0014538</td>\n",
       "      <td>Three Ages</td>\n",
       "      <td>NaN</td>\n",
       "      <td>1923</td>\n",
       "      <td>\\N</td>\n",
       "      <td>63</td>\n",
       "      <td>4312.0</td>\n",
       "      <td>True</td>\n",
       "    </tr>\n",
       "    <tr>\n",
       "      <th>4</th>\n",
       "      <td>50</td>\n",
       "      <td>tt0017925</td>\n",
       "      <td>The General</td>\n",
       "      <td>NaN</td>\n",
       "      <td>1926</td>\n",
       "      <td>\\N</td>\n",
       "      <td>67</td>\n",
       "      <td>87784.0</td>\n",
       "      <td>True</td>\n",
       "    </tr>\n",
       "  </tbody>\n",
       "</table>\n",
       "</div>"
      ],
      "text/plain": [
       "   Unnamed: 0     tconst     primaryTitle    originalTitle startYear endYear  \\\n",
       "0          11  tt0013257            Häxan            Häxan      1922      \\N   \n",
       "1          12  tt0013556       Robin Hood              NaN      1922      \\N   \n",
       "2          16  tt0014341  Our Hospitality  Our Hospitality      1923      \\N   \n",
       "3          19  tt0014538       Three Ages              NaN      1923      \\N   \n",
       "4          50  tt0017925      The General              NaN      1926      \\N   \n",
       "\n",
       "  runtimeMinutes  numVotes label  \n",
       "0             91   13679.0  True  \n",
       "1            143    2178.0  True  \n",
       "2             65   10911.0  True  \n",
       "3             63    4312.0  True  \n",
       "4             67   87784.0  True  "
      ]
     },
     "execution_count": 2,
     "metadata": {},
     "output_type": "execute_result"
    }
   ],
   "source": [
    "# Read CSVs\n",
    "df = pd.concat(map(pd.read_csv,  glob.glob('data/*.csv'))) \n",
    "df.head()"
   ]
  },
  {
   "cell_type": "code",
   "execution_count": 3,
   "metadata": {},
   "outputs": [
    {
     "data": {
      "text/plain": [
       "Index(['Unnamed: 0', 'tconst', 'primaryTitle', 'originalTitle', 'startYear',\n",
       "       'endYear', 'runtimeMinutes', 'numVotes', 'label'],\n",
       "      dtype='object')"
      ]
     },
     "execution_count": 3,
     "metadata": {},
     "output_type": "execute_result"
    }
   ],
   "source": [
    "df.columns"
   ]
  },
  {
   "cell_type": "code",
   "execution_count": 4,
   "metadata": {},
   "outputs": [
    {
     "data": {
      "text/plain": [
       "0                            Haxan\n",
       "1                       Robin Hood\n",
       "2                  Our Hospitality\n",
       "3                       Three Ages\n",
       "4                      The General\n",
       "                   ...            \n",
       "1081           One Piece: Stampede\n",
       "1082                  The Big Ugly\n",
       "1083                    Pagalpanti\n",
       "1084         The Wedding Unplanner\n",
       "1085    Android Kunjappan Ver 5.25\n",
       "Name: primaryTitle, Length: 10000, dtype: object"
      ]
     },
     "execution_count": 4,
     "metadata": {},
     "output_type": "execute_result"
    }
   ],
   "source": [
    "# 2a. Remove accents. NFKD Compatability Decomposition. Got this from: https://stackoverflow.com/questions/37926248/how-to-remove-accents-from-values-in-columns\n",
    "# And: https://developer.mozilla.org/en-US/docs/Web/JavaScript/Reference/Global_Objects/String/normalize\n",
    "df['primaryTitle'].str.normalize('NFKD').str.encode('ascii', errors='ignore').str.decode('utf-8')"
   ]
  },
  {
   "cell_type": "code",
   "execution_count": 5,
   "metadata": {},
   "outputs": [],
   "source": [
    "# 2b. Capitalizaiton rules"
   ]
  },
  {
   "cell_type": "code",
   "execution_count": 6,
   "metadata": {},
   "outputs": [],
   "source": [
    "# 2c. Replace empty cells in originalTitle column with a copy from the title in primarytitle\n",
    "df['originalTitle'].fillna(df['primaryTitle'], inplace=True)"
   ]
  },
  {
   "cell_type": "code",
   "execution_count": null,
   "metadata": {},
   "outputs": [],
   "source": [
    "# 2d. endYear => startYear"
   ]
  },
  {
   "cell_type": "code",
   "execution_count": 11,
   "metadata": {},
   "outputs": [],
   "source": [
    "# 2e. Replace endYear \\N with startYear\n",
    "df['endYear'] = np.where(df['endYear'] == r'\\N', df['startYear'], df['endYear'])"
   ]
  },
  {
   "cell_type": "markdown",
   "metadata": {},
   "source": []
  },
  {
   "cell_type": "code",
   "execution_count": 8,
   "metadata": {},
   "outputs": [
    {
     "name": "stdout",
     "output_type": "stream",
     "text": [
      "nan\n"
     ]
    },
    {
     "data": {
      "text/plain": [
       "0       13679.0\n",
       "1        2178.0\n",
       "2       10911.0\n",
       "3        4312.0\n",
       "4       87784.0\n",
       "         ...   \n",
       "1081     5109.0\n",
       "1082     5780.0\n",
       "1083     2331.0\n",
       "1084        0.0\n",
       "1085     5271.0\n",
       "Name: numVotes, Length: 10000, dtype: float64"
      ]
     },
     "execution_count": 8,
     "metadata": {},
     "output_type": "execute_result"
    }
   ],
   "source": [
    "# 2f Empty numvotes\n",
    "df['numVotes'] = df['numVotes'].replace(np.nan, 0) # Transform empty to 0\n",
    "df['numVotes']\n"
   ]
  },
  {
   "cell_type": "code",
   "execution_count": 9,
   "metadata": {},
   "outputs": [],
   "source": [
    "# 2g Outliers"
   ]
  },
  {
   "cell_type": "markdown",
   "metadata": {},
   "source": []
  }
 ],
 "metadata": {
  "interpreter": {
   "hash": "aee8b7b246df8f9039afb4144a1f6fd8d2ca17a180786b69acc140d282b71a49"
  },
  "kernelspec": {
   "display_name": "Python 3.9.10 64-bit",
   "language": "python",
   "name": "python3"
  },
  "language_info": {
   "codemirror_mode": {
    "name": "ipython",
    "version": 3
   },
   "file_extension": ".py",
   "mimetype": "text/x-python",
   "name": "python",
   "nbconvert_exporter": "python",
   "pygments_lexer": "ipython3",
   "version": "3.9.10"
  },
  "orig_nbformat": 4
 },
 "nbformat": 4,
 "nbformat_minor": 2
}
